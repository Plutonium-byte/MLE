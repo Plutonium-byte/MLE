{
 "cells": [
  {
   "cell_type": "code",
   "execution_count": 2,
   "id": "cbdfe4fb-1dc0-4c36-a515-a06b5858e7a9",
   "metadata": {},
   "outputs": [],
   "source": [
    "import pandas as pd\n",
    "import numpy as np\n",
    "import matplotlib.pyplot as plt\n",
    "import seaborn as sns\n",
    "\n",
    "%matplotlib inline"
   ]
  },
  {
   "cell_type": "code",
   "execution_count": 3,
   "id": "ba268a48-cc72-495a-a286-e94d5080b53e",
   "metadata": {},
   "outputs": [
    {
     "data": {
      "text/html": [
       "<div>\n",
       "<style scoped>\n",
       "    .dataframe tbody tr th:only-of-type {\n",
       "        vertical-align: middle;\n",
       "    }\n",
       "\n",
       "    .dataframe tbody tr th {\n",
       "        vertical-align: top;\n",
       "    }\n",
       "\n",
       "    .dataframe thead th {\n",
       "        text-align: right;\n",
       "    }\n",
       "</style>\n",
       "<table border=\"1\" class=\"dataframe\">\n",
       "  <thead>\n",
       "    <tr style=\"text-align: right;\">\n",
       "      <th></th>\n",
       "      <th>engine_displacement</th>\n",
       "      <th>num_cylinders</th>\n",
       "      <th>horsepower</th>\n",
       "      <th>vehicle_weight</th>\n",
       "      <th>acceleration</th>\n",
       "      <th>model_year</th>\n",
       "      <th>origin</th>\n",
       "      <th>fuel_type</th>\n",
       "      <th>drivetrain</th>\n",
       "      <th>num_doors</th>\n",
       "      <th>fuel_efficiency_mpg</th>\n",
       "    </tr>\n",
       "  </thead>\n",
       "  <tbody>\n",
       "    <tr>\n",
       "      <th>0</th>\n",
       "      <td>170</td>\n",
       "      <td>3.0</td>\n",
       "      <td>159.0</td>\n",
       "      <td>3413.433759</td>\n",
       "      <td>17.7</td>\n",
       "      <td>2003</td>\n",
       "      <td>Europe</td>\n",
       "      <td>Gasoline</td>\n",
       "      <td>All-wheel drive</td>\n",
       "      <td>0.0</td>\n",
       "      <td>13.231729</td>\n",
       "    </tr>\n",
       "    <tr>\n",
       "      <th>1</th>\n",
       "      <td>130</td>\n",
       "      <td>5.0</td>\n",
       "      <td>97.0</td>\n",
       "      <td>3149.664934</td>\n",
       "      <td>17.8</td>\n",
       "      <td>2007</td>\n",
       "      <td>USA</td>\n",
       "      <td>Gasoline</td>\n",
       "      <td>Front-wheel drive</td>\n",
       "      <td>0.0</td>\n",
       "      <td>13.688217</td>\n",
       "    </tr>\n",
       "    <tr>\n",
       "      <th>2</th>\n",
       "      <td>170</td>\n",
       "      <td>NaN</td>\n",
       "      <td>78.0</td>\n",
       "      <td>3079.038997</td>\n",
       "      <td>15.1</td>\n",
       "      <td>2018</td>\n",
       "      <td>Europe</td>\n",
       "      <td>Gasoline</td>\n",
       "      <td>Front-wheel drive</td>\n",
       "      <td>0.0</td>\n",
       "      <td>14.246341</td>\n",
       "    </tr>\n",
       "    <tr>\n",
       "      <th>3</th>\n",
       "      <td>220</td>\n",
       "      <td>4.0</td>\n",
       "      <td>NaN</td>\n",
       "      <td>2542.392402</td>\n",
       "      <td>20.2</td>\n",
       "      <td>2009</td>\n",
       "      <td>USA</td>\n",
       "      <td>Diesel</td>\n",
       "      <td>All-wheel drive</td>\n",
       "      <td>2.0</td>\n",
       "      <td>16.912736</td>\n",
       "    </tr>\n",
       "    <tr>\n",
       "      <th>4</th>\n",
       "      <td>210</td>\n",
       "      <td>1.0</td>\n",
       "      <td>140.0</td>\n",
       "      <td>3460.870990</td>\n",
       "      <td>14.4</td>\n",
       "      <td>2009</td>\n",
       "      <td>Europe</td>\n",
       "      <td>Gasoline</td>\n",
       "      <td>All-wheel drive</td>\n",
       "      <td>2.0</td>\n",
       "      <td>12.488369</td>\n",
       "    </tr>\n",
       "  </tbody>\n",
       "</table>\n",
       "</div>"
      ],
      "text/plain": [
       "   engine_displacement  num_cylinders  horsepower  vehicle_weight  \\\n",
       "0                  170            3.0       159.0     3413.433759   \n",
       "1                  130            5.0        97.0     3149.664934   \n",
       "2                  170            NaN        78.0     3079.038997   \n",
       "3                  220            4.0         NaN     2542.392402   \n",
       "4                  210            1.0       140.0     3460.870990   \n",
       "\n",
       "   acceleration  model_year  origin fuel_type         drivetrain  num_doors  \\\n",
       "0          17.7        2003  Europe  Gasoline    All-wheel drive        0.0   \n",
       "1          17.8        2007     USA  Gasoline  Front-wheel drive        0.0   \n",
       "2          15.1        2018  Europe  Gasoline  Front-wheel drive        0.0   \n",
       "3          20.2        2009     USA    Diesel    All-wheel drive        2.0   \n",
       "4          14.4        2009  Europe  Gasoline    All-wheel drive        2.0   \n",
       "\n",
       "   fuel_efficiency_mpg  \n",
       "0            13.231729  \n",
       "1            13.688217  \n",
       "2            14.246341  \n",
       "3            16.912736  \n",
       "4            12.488369  "
      ]
     },
     "execution_count": 3,
     "metadata": {},
     "output_type": "execute_result"
    }
   ],
   "source": [
    "data = pd.read_csv('car_fuel_efficiency.csv')\n",
    "data.head()"
   ]
  },
  {
   "cell_type": "code",
   "execution_count": 11,
   "id": "0b2bbc33-8cbf-40bc-8eff-bf89a91ce887",
   "metadata": {},
   "outputs": [
    {
     "data": {
      "text/plain": [
       "<Axes: xlabel='fuel_efficiency_mpg', ylabel='Count'>"
      ]
     },
     "execution_count": 11,
     "metadata": {},
     "output_type": "execute_result"
    },
    {
     "data": {
      "image/png": "[encoded data removed]",
      "text/plain": [
       "<Figure size 640x480 with 1 Axes>"
      ]
     },
     "metadata": {},
     "output_type": "display_data"
    }
   ],
   "source": [
    "sns.histplot(data['fuel_efficiency_mpg'], bins=50)"
   ]
  },
  {
   "cell_type": "markdown",
   "id": "b1b14a1e-70bd-48f4-9856-29a69d1c9f40",
   "metadata": {},
   "source": [
    "### Question 1"
   ]
  },
  {
   "cell_type": "code",
   "execution_count": 18,
   "id": "e933153d-c875-4a0b-8d27-e4f63c6356bf",
   "metadata": {},
   "outputs": [
    {
     "data": {
      "text/plain": [
       "engine_displacement      0\n",
       "horsepower             708\n",
       "vehicle_weight           0\n",
       "model_year               0\n",
       "dtype: int64"
      ]
     },
     "execution_count": 18,
     "metadata": {},
     "output_type": "execute_result"
    }
   ],
   "source": [
    "data[['engine_displacement', 'horsepower', 'vehicle_weight', 'model_year']].isnull().sum()"
   ]
  },
  {
   "cell_type": "markdown",
   "id": "d5a71bd1-c4dd-4af9-a024-e0e3f6da8a11",
   "metadata": {},
   "source": [
    "### Question 2"
   ]
  },
  {
   "cell_type": "code",
   "execution_count": 19,
   "id": "a5ae1529-3f2f-48aa-acc9-39259309bb73",
   "metadata": {},
   "outputs": [
    {
     "data": {
      "text/plain": [
       "149.0"
      ]
     },
     "execution_count": 19,
     "metadata": {},
     "output_type": "execute_result"
    }
   ],
   "source": [
    "data['horsepower'].median()"
   ]
  },
  {
   "cell_type": "markdown",
   "id": "d7d0e186-9ce1-4e45-8c5e-54d3db79d376",
   "metadata": {},
   "source": [
    "### Question 3"
   ]
  },
  {
   "cell_type": "code",
   "execution_count": 4,
   "id": "2b07ab89-26ea-4e07-af7d-887eb0054b18",
   "metadata": {},
   "outputs": [
    {
     "data": {
      "text/html": [
       "<div>\n",
       "<style scoped>\n",
       "    .dataframe tbody tr th:only-of-type {\n",
       "        vertical-align: middle;\n",
       "    }\n",
       "\n",
       "    .dataframe tbody tr th {\n",
       "        vertical-align: top;\n",
       "    }\n",
       "\n",
       "    .dataframe thead th {\n",
       "        text-align: right;\n",
       "    }\n",
       "</style>\n",
       "<table border=\"1\" class=\"dataframe\">\n",
       "  <thead>\n",
       "    <tr style=\"text-align: right;\">\n",
       "      <th></th>\n",
       "      <th>engine_displacement</th>\n",
       "      <th>horsepower</th>\n",
       "      <th>vehicle_weight</th>\n",
       "      <th>model_year</th>\n",
       "      <th>fuel_efficiency_mpg</th>\n",
       "    </tr>\n",
       "  </thead>\n",
       "  <tbody>\n",
       "    <tr>\n",
       "      <th>0</th>\n",
       "      <td>170</td>\n",
       "      <td>159.0</td>\n",
       "      <td>3413.433759</td>\n",
       "      <td>2003</td>\n",
       "      <td>13.231729</td>\n",
       "    </tr>\n",
       "    <tr>\n",
       "      <th>1</th>\n",
       "      <td>130</td>\n",
       "      <td>97.0</td>\n",
       "      <td>3149.664934</td>\n",
       "      <td>2007</td>\n",
       "      <td>13.688217</td>\n",
       "    </tr>\n",
       "    <tr>\n",
       "      <th>2</th>\n",
       "      <td>170</td>\n",
       "      <td>78.0</td>\n",
       "      <td>3079.038997</td>\n",
       "      <td>2018</td>\n",
       "      <td>14.246341</td>\n",
       "    </tr>\n",
       "    <tr>\n",
       "      <th>3</th>\n",
       "      <td>220</td>\n",
       "      <td>NaN</td>\n",
       "      <td>2542.392402</td>\n",
       "      <td>2009</td>\n",
       "      <td>16.912736</td>\n",
       "    </tr>\n",
       "    <tr>\n",
       "      <th>4</th>\n",
       "      <td>210</td>\n",
       "      <td>140.0</td>\n",
       "      <td>3460.870990</td>\n",
       "      <td>2009</td>\n",
       "      <td>12.488369</td>\n",
       "    </tr>\n",
       "  </tbody>\n",
       "</table>\n",
       "</div>"
      ],
      "text/plain": [
       "   engine_displacement  horsepower  vehicle_weight  model_year  \\\n",
       "0                  170       159.0     3413.433759        2003   \n",
       "1                  130        97.0     3149.664934        2007   \n",
       "2                  170        78.0     3079.038997        2018   \n",
       "3                  220         NaN     2542.392402        2009   \n",
       "4                  210       140.0     3460.870990        2009   \n",
       "\n",
       "   fuel_efficiency_mpg  \n",
       "0            13.231729  \n",
       "1            13.688217  \n",
       "2            14.246341  \n",
       "3            16.912736  \n",
       "4            12.488369  "
      ]
     },
     "execution_count": 4,
     "metadata": {},
     "output_type": "execute_result"
    }
   ],
   "source": [
    "filtered_df = data[['engine_displacement', 'horsepower', 'vehicle_weight', 'model_year', 'fuel_efficiency_mpg']]\n",
    "filtered_df.head()"
   ]
  },
  {
   "cell_type": "code",
   "execution_count": 24,
   "id": "159b0c2f-6a7a-42b0-830e-989635519a4f",
   "metadata": {},
   "outputs": [],
   "source": [
    "np.random.seed(42)\n",
    "\n",
    "n = len(filtered_df)\n",
    "\n",
    "n_val = int(n * 0.02)\n",
    "n_test = int(n * 0.02)\n",
    "n_train = n - n_val - n_test\n",
    "\n",
    "idx = np.arange(n)\n",
    "np.random.shuffle(idx)\n",
    "\n",
    "df_train = filtered_df.iloc[idx[:n_train]]\n",
    "df_val = filtered_df.iloc[idx[n_train:n_train+n_val]]\n",
    "df_test = filtered_df.iloc[idx[n_train+n_val:]]"
   ]
  },
  {
   "cell_type": "code",
   "execution_count": 26,
   "id": "ce839f3e-cbe9-4031-9e14-9af335b83e7c",
   "metadata": {},
   "outputs": [
    {
     "data": {
      "text/plain": [
       "(194, 194, 9316)"
      ]
     },
     "execution_count": 26,
     "metadata": {},
     "output_type": "execute_result"
    }
   ],
   "source": [
    "n_val, n_test, n_train"
   ]
  },
  {
   "cell_type": "code",
   "execution_count": 27,
   "id": "6473e297-bb2d-4917-8152-463260d5fddb",
   "metadata": {},
   "outputs": [],
   "source": [
    "y_train = df_train['fuel_efficiency_mpg'].values\n",
    "y_val = df_val['fuel_efficiency_mpg'].values\n",
    "y_test = df_test['fuel_efficiency_mpg'].values"
   ]
  },
  {
   "cell_type": "code",
   "execution_count": 29,
   "id": "a59ed0ae-78d1-4857-b6a5-4a00cfb669a2",
   "metadata": {},
   "outputs": [],
   "source": [
    "df_train = df_train.reset_index(drop=True)\n",
    "df_val = df_val.reset_index(drop=True)\n",
    "df_test = df_test.reset_index(drop=True)"
   ]
  },
  {
   "cell_type": "code",
   "execution_count": 28,
   "id": "12f75d82-8006-4c6b-9fa8-d782653b428b",
   "metadata": {},
   "outputs": [],
   "source": [
    "del df_train['fuel_efficiency_mpg']\n",
    "del df_val['fuel_efficiency_mpg']\n",
    "del df_test['fuel_efficiency_mpg']"
   ]
  },
  {
   "cell_type": "code",
   "execution_count": 6,
   "id": "576ed37e-71a8-48bd-a2d8-865fe3448e41",
   "metadata": {},
   "outputs": [],
   "source": [
    "def train_linear_regression_without_reg(X, y):\n",
    "    ones = np.ones(X.shape[0])\n",
    "    X = np.column_stack([ones, X])\n",
    "\n",
    "    XTX = X.T.dot(X)\n",
    "    XTX_inv = np.linalg.inv(XTX)\n",
    "    w_full = XTX_inv.dot(X.T).dot(y)\n",
    "\n",
    "    return w_full[0], w_full[1:]"
   ]
  },
  {
   "cell_type": "code",
   "execution_count": 7,
   "id": "87ac4adc-9136-41e9-b614-283295c26bf0",
   "metadata": {},
   "outputs": [],
   "source": [
    "def train_linear_regression_with_reg(X, y, r=0.001):\n",
    "    ones = np.ones(X.shape[0])\n",
    "    X = np.column_stack([ones, X])\n",
    "\n",
    "    XTX = X.T.dot(X)\n",
    "\n",
    "    XTX = XTX + r * np.eye(XTX.shape[0])\n",
    "    XTX_inv = np.linalg.inv(XTX)\n",
    "    w_full = XTX_inv.dot(X.T).dot(y)\n",
    "\n",
    "    return w_full[0], w_full[1:]"
   ]
  },
  {
   "cell_type": "code",
   "execution_count": 8,
   "id": "e6390b57-45b9-47f3-8bf4-8a62b106782f",
   "metadata": {},
   "outputs": [],
   "source": [
    "def rmse(y, y_pred):\n",
    "    se = (y - y_pred) ** 2\n",
    "    mse = se.mean()\n",
    "\n",
    "    return np.sqrt(mse)"
   ]
  },
  {
   "cell_type": "markdown",
   "id": "e837cb78-ab5c-4e17-a6dd-4ca1bb5f0abe",
   "metadata": {},
   "source": [
    "### Option 1: With 0"
   ]
  },
  {
   "cell_type": "code",
   "execution_count": 9,
   "id": "4b16af32-740f-4d5a-bd61-6b620f0bf9db",
   "metadata": {},
   "outputs": [],
   "source": [
    "def prepare_X_with_0(df):\n",
    "    df = df.copy()\n",
    "\n",
    "    df_fill = df.fillna(0)\n",
    "    X = df_fill.values\n",
    "\n",
    "    return X"
   ]
  },
  {
   "cell_type": "markdown",
   "id": "b8e5440b-4b82-4502-a5b7-c7503036a58f",
   "metadata": {},
   "source": [
    "#### Without Regularization"
   ]
  },
  {
   "cell_type": "code",
   "execution_count": 91,
   "id": "a5cf7808-f295-4925-ac62-a1c18df9f560",
   "metadata": {},
   "outputs": [],
   "source": [
    "X_train = prepare_X_with_0(df_train)\n",
    "w0, w = train_linear_regression_without_reg(X_train, y_train)\n",
    "\n",
    "X_val = prepare_X_with_0(df_val)\n",
    "y_pred = w0 + X_val.dot(w)"
   ]
  },
  {
   "cell_type": "code",
   "execution_count": 92,
   "id": "6f64e7dd-a1a0-41c2-a6ae-969f34ba0e24",
   "metadata": {},
   "outputs": [
    {
     "data": {
      "text/plain": [
       "0.5101275047502933"
      ]
     },
     "execution_count": 92,
     "metadata": {},
     "output_type": "execute_result"
    }
   ],
   "source": [
    "round(rmse(y_val, y_pred), 2)"
   ]
  },
  {
   "cell_type": "markdown",
   "id": "9a0c879c-bce0-4baf-8925-a355e81367fe",
   "metadata": {},
   "source": [
    "#### With Regularization"
   ]
  },
  {
   "cell_type": "code",
   "execution_count": 113,
   "id": "1c87b822-f143-4a8a-affb-becc2f8173d8",
   "metadata": {},
   "outputs": [],
   "source": [
    "X_train = prepare_X_with_0(df_train)\n",
    "w0, w = train_linear_regression_with_reg(X_train, y_train, r=0.0001)\n",
    "\n",
    "X_val = prepare_X_with_0(df_val)\n",
    "y_pred = w0 + X_val.dot(w)"
   ]
  },
  {
   "cell_type": "code",
   "execution_count": 114,
   "id": "7ee6af20-12b8-44f1-995f-74e0e6c60b34",
   "metadata": {},
   "outputs": [
    {
     "data": {
      "text/plain": [
       "0.5101288687451415"
      ]
     },
     "execution_count": 114,
     "metadata": {},
     "output_type": "execute_result"
    }
   ],
   "source": [
    "round(rmse(y_val, y_pred), 2)"
   ]
  },
  {
   "cell_type": "markdown",
   "id": "2022f8fc-eac3-4065-b072-fdd4d74bb5f1",
   "metadata": {},
   "source": [
    "### Option 2: With Mean"
   ]
  },
  {
   "cell_type": "code",
   "execution_count": 119,
   "id": "0da47be6-5abb-4802-972e-8bcfb2a48913",
   "metadata": {},
   "outputs": [],
   "source": [
    "df_train_mean = round(df_train['horsepower'].mean())\n",
    "def prepare_X_with_mean(df):\n",
    "    df = df.copy()\n",
    "\n",
    "    df_fill = df.fillna(df_train_mean)\n",
    "    X = df_fill.values\n",
    "\n",
    "    return X"
   ]
  },
  {
   "cell_type": "markdown",
   "id": "772c5881-91de-45b7-99d6-ce35c4e87eb8",
   "metadata": {},
   "source": [
    "#### Without Regularization"
   ]
  },
  {
   "cell_type": "code",
   "execution_count": 121,
   "id": "e04ae083-8c6a-4779-b892-84f3fe6c8bb2",
   "metadata": {},
   "outputs": [],
   "source": [
    "X_train = prepare_X_with_mean(df_train)\n",
    "w0, w = train_linear_regression_without_reg(X_train, y_train)\n",
    "\n",
    "X_val = prepare_X_with_0(df_val)\n",
    "y_pred = w0 + X_val.dot(w)"
   ]
  },
  {
   "cell_type": "code",
   "execution_count": 122,
   "id": "f2182038-7efa-48a2-b223-f6d600593db5",
   "metadata": {},
   "outputs": [
    {
     "data": {
      "text/plain": [
       "0.6185880292386995"
      ]
     },
     "execution_count": 122,
     "metadata": {},
     "output_type": "execute_result"
    }
   ],
   "source": [
    "round(rmse(y_val, y_pred), 2)"
   ]
  },
  {
   "cell_type": "markdown",
   "id": "3be474b7-151c-4c0e-aa18-4ef176a20de2",
   "metadata": {},
   "source": [
    "#### With Regularization"
   ]
  },
  {
   "cell_type": "code",
   "execution_count": 127,
   "id": "31a5b135-45db-403d-8d24-81978b892fcf",
   "metadata": {},
   "outputs": [],
   "source": [
    "X_train = prepare_X_with_mean(df_train)\n",
    "w0, w = train_linear_regression_with_reg(X_train, y_train, r=0.0001)\n",
    "\n",
    "X_val = prepare_X_with_0(df_val)\n",
    "y_pred = w0 + X_val.dot(w)"
   ]
  },
  {
   "cell_type": "code",
   "execution_count": 129,
   "id": "efce3008-ff7d-4b8a-9b1f-a0f9025cd14a",
   "metadata": {},
   "outputs": [
    {
     "data": {
      "text/plain": [
       "0.62"
      ]
     },
     "execution_count": 129,
     "metadata": {},
     "output_type": "execute_result"
    }
   ],
   "source": [
    "round(rmse(y_val, y_pred), 2)"
   ]
  },
  {
   "cell_type": "markdown",
   "id": "ce6efb61-b3ae-4a5f-8cb8-9942f09f90a8",
   "metadata": {},
   "source": [
    "### Question 4"
   ]
  },
  {
   "cell_type": "code",
   "execution_count": 147,
   "id": "ee32b462-43a7-4ff0-bb32-764485fde33e",
   "metadata": {},
   "outputs": [],
   "source": [
    "X_train = prepare_X_with_0(df_train)"
   ]
  },
  {
   "cell_type": "code",
   "execution_count": 148,
   "id": "2cbf7bf9-2cb7-4774-b053-b7e47852dbed",
   "metadata": {},
   "outputs": [
    {
     "name": "stdout",
     "output_type": "stream",
     "text": [
      "0: 0.51\n",
      "\n",
      "0.01: 0.51\n",
      "\n",
      "0.1: 0.51\n",
      "\n",
      "1: 0.52\n",
      "\n",
      "5: 0.52\n",
      "\n",
      "10: 0.52\n",
      "\n",
      "100: 0.52\n",
      "\n"
     ]
    }
   ],
   "source": [
    "for r in [0, 0.01, 0.1, 1, 5, 10, 100]:\n",
    "    w0, w = train_linear_regression_with_reg(X_train, y_train, r=r)\n",
    "\n",
    "    X_val = prepare_X_with_0(df_val)\n",
    "    y_pred = w0 + X_val.dot(w)\n",
    "    score = round(rmse(y_val, y_pred), 2)\n",
    "\n",
    "    print(f\"{r}: {score}{nl}\")"
   ]
  },
  {
   "cell_type": "markdown",
   "id": "b3ab6a30-7606-41ab-b26f-845291f4e4d4",
   "metadata": {},
   "source": [
    "### Question 5"
   ]
  },
  {
   "cell_type": "code",
   "execution_count": 12,
   "id": "061c701f-4aa1-4785-b8a4-5a38912cf6f0",
   "metadata": {},
   "outputs": [
    {
     "name": "stdout",
     "output_type": "stream",
     "text": [
      "Processing seed: 0...\n",
      "Processing seed: 1...\n",
      "Processing seed: 2...\n",
      "Processing seed: 3...\n",
      "Processing seed: 4...\n",
      "Processing seed: 5...\n",
      "Processing seed: 6...\n",
      "Processing seed: 7...\n",
      "Processing seed: 8...\n",
      "Processing seed: 9...\n",
      "Seed 0: RMSE = 0.5673\n",
      "Seed 1: RMSE = 0.5196\n",
      "Seed 2: RMSE = 0.5127\n",
      "Seed 3: RMSE = 0.5498\n",
      "Seed 4: RMSE = 0.5377\n",
      "Seed 5: RMSE = 0.5239\n",
      "Seed 6: RMSE = 0.5043\n",
      "Seed 7: RMSE = 0.4749\n",
      "Seed 8: RMSE = 0.4681\n",
      "Seed 9: RMSE = 0.5325\n",
      "Standard Deviation of RMSE: 0.029\n"
     ]
    }
   ],
   "source": [
    "seeds = range(10)\n",
    "rmse_scores = []\n",
    "\n",
    "for seed in seeds:\n",
    "    print(f\"Processing seed: {seed}...\")\n",
    "    \n",
    "    np.random.seed(seed)\n",
    "\n",
    "    n = len(filtered_df) \n",
    "    n_val = int(n * 0.02)\n",
    "    n_test = int(n * 0.02)\n",
    "    n_train = n - n_val - n_test\n",
    "    \n",
    "    idx = np.arange(n)\n",
    "    np.random.shuffle(idx)\n",
    "    \n",
    "    df_train = filtered_df.iloc[idx[:n_train]]\n",
    "    df_val = filtered_df.iloc[idx[n_train:n_train+n_val]]\n",
    "    df_test = filtered_df.iloc[idx[n_train+n_val:]]\n",
    "\n",
    "    y_train = df_train['fuel_efficiency_mpg'].values\n",
    "    y_val = df_val['fuel_efficiency_mpg'].values\n",
    "    y_test = df_test['fuel_efficiency_mpg'].values\n",
    "\n",
    "    df_train = df_train.reset_index(drop=True)\n",
    "    df_val = df_val.reset_index(drop=True)\n",
    "    df_test = df_test.reset_index(drop=True)\n",
    "\n",
    "    del df_train['fuel_efficiency_mpg']\n",
    "    del df_val['fuel_efficiency_mpg']\n",
    "    del df_test['fuel_efficiency_mpg']\n",
    "\n",
    "    X_train = prepare_X_with_0(df_train)\n",
    "    w0, w = train_linear_regression_without_reg(X_train, y_train)\n",
    "    \n",
    "    X_val = prepare_X_with_0(df_val)\n",
    "    y_pred = w0 + X_val.dot(w)\n",
    "\n",
    "    score = rmse(y_val, y_pred)\n",
    "    rmse_scores.append(score)\n",
    "\n",
    "for seed, score in zip(seeds, rmse_scores):\n",
    "    print(f\"Seed {seed}: RMSE = {score:.4f}\")\n",
    "print(f'Standard Deviation of RMSE: {np.std(rmse_scores):.3f}')"
   ]
  },
  {
   "cell_type": "code",
   "execution_count": null,
   "id": "0fbe7874-a916-4c46-928f-c73b0c087c1c",
   "metadata": {},
   "outputs": [],
   "source": [
    "Seed 0: RMSE = 0.5670\n",
    "Seed 1: RMSE = 0.5200\n",
    "Seed 2: RMSE = 0.5130\n",
    "Seed 3: RMSE = 0.5500\n",
    "Seed 4: RMSE = 0.5380\n",
    "Seed 5: RMSE = 0.5240\n",
    "Seed 6: RMSE = 0.5040\n",
    "Seed 7: RMSE = 0.4750\n",
    "Seed 8: RMSE = 0.4680\n",
    "Seed 9: RMSE = 0.5330"
   ]
  },
  {
   "cell_type": "markdown",
   "id": "e3c8c333-294e-454a-96eb-e8de4b6cb81a",
   "metadata": {},
   "source": [
    "### Question 6"
   ]
  },
  {
   "cell_type": "code",
   "execution_count": 171,
   "id": "9b8c6dcc-24b9-459b-96cc-add2342742ba",
   "metadata": {},
   "outputs": [],
   "source": [
    "np.random.seed(9)\n",
    "\n",
    "n = len(filtered_df)\n",
    "\n",
    "n_val = int(n * 0.02)\n",
    "n_test = int(n * 0.02)\n",
    "n_train = n - n_val - n_test\n",
    "\n",
    "idx = np.arange(n)\n",
    "np.random.shuffle(idx)\n",
    "\n",
    "df_train = filtered_df.iloc[idx[:n_train]]\n",
    "df_val = filtered_df.iloc[idx[n_train:n_train+n_val]]\n",
    "df_test = filtered_df.iloc[idx[n_train+n_val:]]"
   ]
  },
  {
   "cell_type": "code",
   "execution_count": 172,
   "id": "1da886c2-1087-4cda-af13-0e2213ebdf26",
   "metadata": {},
   "outputs": [],
   "source": [
    "y_train = df_train['fuel_efficiency_mpg'].values\n",
    "y_val = df_val['fuel_efficiency_mpg'].values\n",
    "y_test = df_test['fuel_efficiency_mpg'].values"
   ]
  },
  {
   "cell_type": "code",
   "execution_count": 173,
   "id": "114b083c-cb7f-4b49-9fad-d6df6a24b7ce",
   "metadata": {},
   "outputs": [],
   "source": [
    "df_train = df_train.reset_index(drop=True)\n",
    "df_val = df_val.reset_index(drop=True)\n",
    "df_test = df_test.reset_index(drop=True)"
   ]
  },
  {
   "cell_type": "code",
   "execution_count": 174,
   "id": "bbc00361-112b-4185-9791-666c977fa418",
   "metadata": {},
   "outputs": [],
   "source": [
    "del df_train['fuel_efficiency_mpg']\n",
    "del df_val['fuel_efficiency_mpg']\n",
    "del df_test['fuel_efficiency_mpg']"
   ]
  },
  {
   "cell_type": "code",
   "execution_count": 175,
   "id": "43be0b1f-0816-460d-8320-d37e22f486fa",
   "metadata": {},
   "outputs": [],
   "source": [
    "df_full_train = pd.concat([df_train, df_val])\n",
    "df_full_train = df_full_train.reset_index(drop=True)"
   ]
  },
  {
   "cell_type": "code",
   "execution_count": 176,
   "id": "d4f7e461-4d79-485d-a027-b0c50da0f6b6",
   "metadata": {},
   "outputs": [],
   "source": [
    "X_full_train = prepare_X_with_0(df_full_train)"
   ]
  },
  {
   "cell_type": "code",
   "execution_count": 177,
   "id": "822dd871-1a6e-4e96-b228-296890514a55",
   "metadata": {},
   "outputs": [],
   "source": [
    "y_full_train = np.concatenate([y_train, y_val])"
   ]
  },
  {
   "cell_type": "code",
   "execution_count": 178,
   "id": "c6f92386-1bab-4e50-a460-69a857ef445a",
   "metadata": {},
   "outputs": [
    {
     "data": {
      "text/plain": [
       "0.5167867959716178"
      ]
     },
     "execution_count": 178,
     "metadata": {},
     "output_type": "execute_result"
    }
   ],
   "source": [
    "w0, w = train_linear_regression_with_reg(X_full_train, y_full_train, r=0.001)\n",
    "\n",
    "X_test = prepare_X_with_0(df_test)\n",
    "y_pred = w0 + X_test.dot(w)\n",
    "rmse(y_test, y_pred)"
   ]
  }
 ],
 "metadata": {
  "kernelspec": {
   "display_name": "Python 3 (ipykernel)",
   "language": "python",
   "name": "python3"
  },
  "language_info": {
   "codemirror_mode": {
    "name": "ipython",
    "version": 3
   },
   "file_extension": ".py",
   "mimetype": "text/x-python",
   "name": "python",
   "nbconvert_exporter": "python",
   "pygments_lexer": "ipython3",
   "version": "3.11.9"
  }
 },
 "nbformat": 4,
 "nbformat_minor": 5
}
